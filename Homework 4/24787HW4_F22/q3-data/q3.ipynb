{
 "cells": [
  {
   "cell_type": "markdown",
   "metadata": {},
   "source": [
    "### Note for question3\n",
    "- Please follow the template to complete q3\n",
    "- You may create new cells to report your results and observations"
   ]
  },
  {
   "cell_type": "code",
   "execution_count": null,
   "metadata": {},
   "outputs": [],
   "source": [
    "# Import libraries\n"
   ]
  },
  {
   "cell_type": "markdown",
   "metadata": {},
   "source": [
    "## P1. Load data and plot\n",
    "### TODO\n",
    "- load q3_data.csv\n",
    "- plot the points of different labels with different color"
   ]
  },
  {
   "cell_type": "code",
   "execution_count": null,
   "metadata": {},
   "outputs": [],
   "source": [
    "# Load dataset\n",
    "\n",
    "\n",
    "# Plot points\n"
   ]
  },
  {
   "cell_type": "markdown",
   "metadata": {},
   "source": [
    "## P2. Feature mapping\n",
    "### TODO\n",
    "- implement function **map_feature()** to transform data from original space to the 28D space specified in the write-up"
   ]
  },
  {
   "cell_type": "code",
   "execution_count": null,
   "metadata": {},
   "outputs": [],
   "source": [
    "# Transform points to 28D space\n"
   ]
  },
  {
   "cell_type": "markdown",
   "metadata": {},
   "source": [
    "## P3. Regularized Logistic Regression\n",
    "### TODO\n",
    "- implement function **logistic_regpression_regularized()** as required in the write-up\n",
    "- draw the decision boundary\n",
    "\n",
    "### Hints\n",
    "- recycling code from HW2 is allowed\n",
    "- you may use functions defined this section for part 4 below\n",
    "- although optional for the report, plotting the convergence curve will be helpful"
   ]
  },
  {
   "cell_type": "code",
   "execution_count": null,
   "metadata": {},
   "outputs": [],
   "source": [
    "# Define your functions here\n",
    "\n",
    "\n",
    "# Plot decision boundary\n"
   ]
  },
  {
   "cell_type": "markdown",
   "metadata": {},
   "source": [
    "## P4. Tune the strength of regularization\n",
    "### TODO\n",
    "- tweak the hyper-parameter $\\lambda$ to be $[0, 1, 100, 10000]$\n",
    "- draw the decision boundaries\n"
   ]
  },
  {
   "cell_type": "code",
   "execution_count": 1,
   "metadata": {},
   "outputs": [],
   "source": [
    "# lambda = 0\n",
    "\n",
    "# lambda = 1\n",
    "\n",
    "# lambda = 100\n",
    "\n",
    "# lambda = 10000"
   ]
  },
  {
   "cell_type": "markdown",
   "metadata": {},
   "source": [
    "Answer for part (d) here: \n",
    "\n"
   ]
  }
 ],
 "metadata": {
  "kernelspec": {
   "display_name": "Python 3 (ipykernel)",
   "language": "python",
   "name": "python3"
  },
  "language_info": {
   "codemirror_mode": {
    "name": "ipython",
    "version": 3
   },
   "file_extension": ".py",
   "mimetype": "text/x-python",
   "name": "python",
   "nbconvert_exporter": "python",
   "pygments_lexer": "ipython3",
   "version": "3.9.12"
  }
 },
 "nbformat": 4,
 "nbformat_minor": 2
}
