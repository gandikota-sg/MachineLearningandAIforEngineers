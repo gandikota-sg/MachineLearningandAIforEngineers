{
 "cells": [
  {
   "cell_type": "markdown",
   "metadata": {
    "colab_type": "text",
    "id": "-hLsbU5o2-Ni"
   },
   "source": [
    "This problem was adapted from Professor Farimani's paper. If you are interested in learning more, you can read it <a href=\"https://www.nature.com/articles/s41699-018-0060-8.pdf\">here</a>."
   ]
  },
  {
   "cell_type": "code",
   "execution_count": 0,
   "metadata": {
    "colab": {},
    "colab_type": "code",
    "id": "AF_9krxO2-Nk"
   },
   "outputs": [],
   "source": [
    "# (a)\n",
    "# data preprocessing\n"
   ]
  },
  {
   "cell_type": "code",
   "execution_count": 0,
   "metadata": {
    "colab": {},
    "colab_type": "code",
    "id": "avmJ2l-62-Nn"
   },
   "outputs": [],
   "source": [
    "# (b)\n",
    "# k-means\n"
   ]
  },
  {
   "cell_type": "code",
   "execution_count": 0,
   "metadata": {
    "colab": {},
    "colab_type": "code",
    "id": "-3IGeOwv2-Nq"
   },
   "outputs": [],
   "source": [
    "# (c)\n",
    "# random forest\n"
   ]
  },
  {
   "cell_type": "code",
   "execution_count": 0,
   "metadata": {
    "colab": {},
    "colab_type": "code",
    "id": "1XnUdi6P3IYP"
   },
   "outputs": [],
   "source": [
    "# (d)\n",
    "# Analysis"
   ]
  }
 ],
 "metadata": {
  "colab": {
   "name": "q2.ipynb",
   "provenance": []
  },
  "kernelspec": {
   "display_name": "Python 3 (ipykernel)",
   "language": "python",
   "name": "python3"
  },
  "language_info": {
   "codemirror_mode": {
    "name": "ipython",
    "version": 3
   },
   "file_extension": ".py",
   "mimetype": "text/x-python",
   "name": "python",
   "nbconvert_exporter": "python",
   "pygments_lexer": "ipython3",
   "version": "3.9.12"
  }
 },
 "nbformat": 4,
 "nbformat_minor": 1
}
