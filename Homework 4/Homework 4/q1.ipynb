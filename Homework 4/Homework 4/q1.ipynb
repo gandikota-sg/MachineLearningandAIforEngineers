{
 "cells": [
  {
   "cell_type": "markdown",
   "metadata": {},
   "source": [
    "# Principal Component Analysis\n",
    "The goal of this question is to build a conceptual understanding of dimensionality reduction using PCA and implement it on a toy dataset. You’ll only have to use numpy and matplotlib for this question."
   ]
  },
  {
   "cell_type": "code",
   "execution_count": 1,
   "metadata": {},
   "outputs": [],
   "source": [
    "import numpy as np\n",
    "import matplotlib.pyplot as plt\n",
    "\n",
    "# (a) Load data (features)\n",
    "def load_data():\n",
    "    features_data = np.load(\"features.npy\")\n",
    "    normalized_data = (features_data - np.mean(features_data, axis = 0)) / np.std(features_data, axis = 0)\n",
    "    #print(f\"Mean: {np.mean(normalized_data, axis = 0)} and Standard Deviation: {np.std(normalized_data, axis = 0)}\")\n",
    "    return normalized_data\n"
   ]
  },
  {
   "cell_type": "code",
   "execution_count": 2,
   "metadata": {},
   "outputs": [],
   "source": [
    "# (b) Perform eigen decomposition and return eigen pairs in desecending order of eigen values\n",
    "def eigendecomp(X):\n",
    "    covar = (X.T @ X) / (len(X) - 1)\n",
    "    eig_vals, eig_vecs = np.linalg.eig(covar)\n",
    "    sorted_pos = np.argsort(eig_vals)[::-1]\n",
    "    sorted_eig_vals = eig_vals[sorted_pos]\n",
    "    sorted_eig_vecs = eig_vecs[sorted_pos]\n",
    "    return (sorted_eig_vals, sorted_eig_vecs)\n"
   ]
  },
  {
   "cell_type": "code",
   "execution_count": 3,
   "metadata": {},
   "outputs": [
    {
     "name": "stdout",
     "output_type": "stream",
     "text": [
      "K: 1 -- Variance: 0.588921209829577 -- Eigenvalue: [ 4.74298961e+00  2.29585309e+00  7.76910512e-01  2.04172901e-01\n",
      "  3.37651661e-02  4.95328615e-16  3.28557900e-16 -6.56497859e-16]\n",
      "K: 2 -- Variance: 0.873989634702231 -- Eigenvalue: [ 4.74298961e+00  2.29585309e+00  7.76910512e-01  2.04172901e-01\n",
      "  3.37651661e-02  4.95328615e-16  3.28557900e-16 -6.56497859e-16]\n",
      "K: 3 -- Variance: 0.9704560233211403 -- Eigenvalue: [ 4.74298961e+00  2.29585309e+00  7.76910512e-01  2.04172901e-01\n",
      "  3.37651661e-02  4.95328615e-16  3.28557900e-16 -6.56497859e-16]\n",
      "K: 4 -- Variance: 0.9958074918820436 -- Eigenvalue: [ 4.74298961e+00  2.29585309e+00  7.76910512e-01  2.04172901e-01\n",
      "  3.37651661e-02  4.95328615e-16  3.28557900e-16 -6.56497859e-16]\n",
      "K: 5 -- Variance: 0.9999999999999998 -- Eigenvalue: [ 4.74298961e+00  2.29585309e+00  7.76910512e-01  2.04172901e-01\n",
      "  3.37651661e-02  4.95328615e-16  3.28557900e-16 -6.56497859e-16]\n",
      "K: 6 -- Variance: 0.9999999999999998 -- Eigenvalue: [ 4.74298961e+00  2.29585309e+00  7.76910512e-01  2.04172901e-01\n",
      "  3.37651661e-02  4.95328615e-16  3.28557900e-16 -6.56497859e-16]\n",
      "K: 7 -- Variance: 0.9999999999999998 -- Eigenvalue: [ 4.74298961e+00  2.29585309e+00  7.76910512e-01  2.04172901e-01\n",
      "  3.37651661e-02  4.95328615e-16  3.28557900e-16 -6.56497859e-16]\n",
      "K: 8 -- Variance: 1.0 -- Eigenvalue: [ 4.74298961e+00  2.29585309e+00  7.76910512e-01  2.04172901e-01\n",
      "  3.37651661e-02  4.95328615e-16  3.28557900e-16 -6.56497859e-16]\n"
     ]
    }
   ],
   "source": [
    "# (c) Evaluate using variance_explained as the metric\n",
    "def eval():\n",
    "    X = load_data()\n",
    "    eig_vals, eig_vecs = eigendecomp(X)\n",
    "    dims = len(X[0])\n",
    "    for k in range(dims):\n",
    "        feature_dims = X[:, :k+1]\n",
    "        current_eig_vals = eig_vals[:k+1]\n",
    "        variance_features = np.sum(current_eig_vals) / np.sum(eig_vals)\n",
    "        print(f\"K: {k+1} -- Variance: {variance_features} -- Eigenvalue: {eig_vals}\" )      \n",
    "\n",
    "eval()"
   ]
  },
  {
   "cell_type": "markdown",
   "metadata": {},
   "source": [
    "The value of k that we should use is k = 3 for the sole reason that it has the closest variance at 0.97 to 1 and the higher ones will end up negatively harming our system."
   ]
  },
  {
   "cell_type": "code",
   "execution_count": 4,
   "metadata": {},
   "outputs": [],
   "source": [
    "# (d) Visualize after projecting to 2-D space\n",
    "def viz():\n",
    "    labels_array = []\n",
    "    labels = np.load(\"labels.npy\", allow_pickle=True)\n",
    "    for i, label in enumerate(labels):\n",
    "        if (i != 0  and labels[i-1] != label):\n",
    "            labels_array.append(i)\n",
    "    X = load_data()\n",
    "    sorted_eig_vals, sorted_eig_vecs = eigendecomp(X)\n",
    "    plot_x = X @ sorted_eig_vecs[:, 0:2]\n",
    "    x_0 = plot_x[:labels_array[0] + 1]\n",
    "    x_1 = plot_x[labels_array[0]:labels_array[1] + 1]\n",
    "    x_2 = plot_x[labels_array[1]:len(plot_x)]\n",
    "    \n",
    "    plt.scatter(x_0[:,0], x_0[:,1], label = \"label 0\")\n",
    "    plt.scatter(x_1[:,0], x_1[:,1], label = \"label 1\")\n",
    "    plt.scatter(x_2[:,0], x_2[:,1], label = \"label 2\")\n",
    "    plt.legend()\n",
    "    plt.title(\"Data in 2-D Supspace\")\n",
    "    plt.show()"
   ]
  },
  {
   "cell_type": "code",
   "execution_count": 5,
   "metadata": {},
   "outputs": [
    {
     "name": "stdout",
     "output_type": "stream",
     "text": [
      "K: 1 -- Variance: 0.588921209829577 -- Eigenvalue: [ 4.74298961e+00  2.29585309e+00  7.76910512e-01  2.04172901e-01\n",
      "  3.37651661e-02  4.95328615e-16  3.28557900e-16 -6.56497859e-16]\n",
      "K: 2 -- Variance: 0.873989634702231 -- Eigenvalue: [ 4.74298961e+00  2.29585309e+00  7.76910512e-01  2.04172901e-01\n",
      "  3.37651661e-02  4.95328615e-16  3.28557900e-16 -6.56497859e-16]\n",
      "K: 3 -- Variance: 0.9704560233211403 -- Eigenvalue: [ 4.74298961e+00  2.29585309e+00  7.76910512e-01  2.04172901e-01\n",
      "  3.37651661e-02  4.95328615e-16  3.28557900e-16 -6.56497859e-16]\n",
      "K: 4 -- Variance: 0.9958074918820436 -- Eigenvalue: [ 4.74298961e+00  2.29585309e+00  7.76910512e-01  2.04172901e-01\n",
      "  3.37651661e-02  4.95328615e-16  3.28557900e-16 -6.56497859e-16]\n",
      "K: 5 -- Variance: 0.9999999999999998 -- Eigenvalue: [ 4.74298961e+00  2.29585309e+00  7.76910512e-01  2.04172901e-01\n",
      "  3.37651661e-02  4.95328615e-16  3.28557900e-16 -6.56497859e-16]\n",
      "K: 6 -- Variance: 0.9999999999999998 -- Eigenvalue: [ 4.74298961e+00  2.29585309e+00  7.76910512e-01  2.04172901e-01\n",
      "  3.37651661e-02  4.95328615e-16  3.28557900e-16 -6.56497859e-16]\n",
      "K: 7 -- Variance: 0.9999999999999998 -- Eigenvalue: [ 4.74298961e+00  2.29585309e+00  7.76910512e-01  2.04172901e-01\n",
      "  3.37651661e-02  4.95328615e-16  3.28557900e-16 -6.56497859e-16]\n",
      "K: 8 -- Variance: 1.0 -- Eigenvalue: [ 4.74298961e+00  2.29585309e+00  7.76910512e-01  2.04172901e-01\n",
      "  3.37651661e-02  4.95328615e-16  3.28557900e-16 -6.56497859e-16]\n"
     ]
    },
    {
     "data": {
      "image/png": "[encoded data removed]",
      "text/plain": [
       "<Figure size 432x288 with 1 Axes>"
      ]
     },
     "metadata": {
      "needs_background": "light"
     },
     "output_type": "display_data"
    }
   ],
   "source": [
    "def main():\n",
    "\n",
    "    eval()\n",
    "    viz()\n",
    "\n",
    "if __name__ == \"__main__\":\n",
    "    main()"
   ]
  },
  {
   "cell_type": "raw",
   "metadata": {},
   "source": [
    "(e): Assume you have a dataset with the original dimensionality as 2 and you have to reduce it to 1. Provide a sample scatter plot of the original data (less than 10 datapoints) where PCA might produce misleading results. You can plot it by hand and then take a picture. In the next cell, switch to Markdown mode and use the command: ![title](<your_plot_file_path>)"
   ]
  },
  {
   "cell_type": "markdown",
   "metadata": {},
   "source": [
    "![1e](1e.png)"
   ]
  },
  {
   "cell_type": "code",
   "execution_count": null,
   "metadata": {},
   "outputs": [],
   "source": []
  }
 ],
 "metadata": {
  "kernelspec": {
   "display_name": "Python 3 (ipykernel)",
   "language": "python",
   "name": "python3"
  },
  "language_info": {
   "codemirror_mode": {
    "name": "ipython",
    "version": 3
   },
   "file_extension": ".py",
   "mimetype": "text/x-python",
   "name": "python",
   "nbconvert_exporter": "python",
   "pygments_lexer": "ipython3",
   "version": "3.9.12"
  }
 },
 "nbformat": 4,
 "nbformat_minor": 2
}
