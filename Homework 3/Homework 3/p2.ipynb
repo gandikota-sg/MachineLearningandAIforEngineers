{
 "cells": [
  {
   "cell_type": "markdown",
   "metadata": {},
   "source": [
    "# Problem 2: Implementing a Multi-layer Perceptron"
   ]
  },
  {
   "cell_type": "code",
   "execution_count": 1,
   "metadata": {},
   "outputs": [],
   "source": [
    "import numpy as np\n",
    "import matplotlib.pyplot as plt\n",
    "import pandas as pd\n",
    "import seaborn as sns"
   ]
  },
  {
   "cell_type": "code",
   "execution_count": 2,
   "metadata": {},
   "outputs": [],
   "source": [
    "#!pip install seaborn\n",
    "# Install seaborn (needed to plot confusion matrix) by uncommenting the above line"
   ]
  },
  {
   "cell_type": "code",
   "execution_count": 16,
   "metadata": {},
   "outputs": [],
   "source": [
    "def sigmoid_forward(a):\n",
    "    # calculates the sigmoid activation function\n",
    "    # a: pre-activation values\n",
    "    # returns: activated values\n",
    "    \n",
    "    return 1 / (1 + np.exp(-a));\n",
    "\n",
    "def sigmoid_backward(grad_accum, a):\n",
    "    # grad_accum: the gradient of the loss function w.r.t to z\n",
    "    # a: the pre-activation values\n",
    "    # returns: the gradient of the loss w.r.t to the preactivation values, a\n",
    "    \n",
    "    return (grad_accum * (np.exp(-a) / ((1 + np.exp(-a)) ** 2)))\n",
    "    \n",
    "def linear_forward(x, weight, bias):\n",
    "    # Computes the forward pass of the linear layer\n",
    "    # x: input of layer\n",
    "    # weight, bias: weights and bias of neural network layer\n",
    "    # returns: output of linear layer\n",
    "    \n",
    "    x = np.column_stack((np.ones(np.shape(x)[0]), x))\n",
    "    weight = np.column_stack((bias, weight))\n",
    "    return x @ weight.T\n",
    "\n",
    "def linear_backward(grad_accum, x, weight, bias):\n",
    "    #  Derivative of the linear layer w.r.t \n",
    "    # grad_accum: gradient of loss w.r.t function after linear layer\n",
    "    # returns dl_dw: gradient of loss w.r.t to weights \n",
    "    # returns dl_dx: gradient of loss w.r.t to input, x  \n",
    "    # return dl_dw, dl_dx\n",
    "    \n",
    "    x = np.column_stack((np.ones(np.shape(x)[0]), x))\n",
    "    return grad_accum.T @ x, grad_accum @ weight\n",
    "    \n",
    "def softmax_xeloss_forward(b, labels):\n",
    "    # Input parameters: \n",
    "    ## b: pre-activation \n",
    "    # calculates the softmax of the vector b\n",
    "    # calculates the cross entropy loss between the softmax of b and the labels \n",
    "    # returns: l\n",
    "    \n",
    "    den = np.sum(np.exp(b), axis = 1)\n",
    "    pred = np.exp(b) / np.tile(den[:, np.newaxis], (1, 10))\n",
    "    l = -np.sum(labels * (np.log(pred)), axis = 1)\n",
    "    return l\n",
    "    \n",
    "def softmax_xeloss_backward(yhat, labels):\n",
    "    # Input parameters:\n",
    "    # yhat: predictions of the neural network\n",
    "    # labels: target of the network\n",
    "    # returns: dl_db gradient of loss w.r.t to b\n",
    "    \n",
    "    dl_db = (-labels * (1 - yhat))\n",
    "    return dl_db\n",
    "    \n",
    "def data_load():\n",
    "    # load in the data provided in \"data/\"\n",
    "    # Unzip fashion_mnist.zip\n",
    "    \n",
    "    train = np.loadtxt(\"fashion_mnist/train.csv\", delimiter = \",\");\n",
    "    test = np.loadtxt(\"fashion_mnist/test.csv\", delimiter = \",\");\n",
    "    \n",
    "    x_train = train[:, :-1]\n",
    "    y_train = train[:, -1]\n",
    "    \n",
    "    x_test = test[:, :-1]\n",
    "    y_test = test[:, -1]\n",
    "    \n",
    "    return x_train, y_train, x_test, y_test\n",
    "\n",
    "def load_params():\n",
    "    alpha_weights = np.loadtxt('params/alpha1.txt', delimiter=',')\n",
    "    beta_weights = np.loadtxt('params/alpha2.txt', delimiter=',')\n",
    "    alpha_bias= np.loadtxt('params/beta1.txt', delimiter=',')\n",
    "    beta_bias = np.loadtxt('params/beta2.txt', delimiter=',')\n",
    "    return alpha_weights, beta_weights, alpha_bias, beta_bias\n",
    "\n",
    "def one_hot_encode(y):\n",
    "    # convert categorical target features to one hot encoded data\n",
    "    \n",
    "    encode_data = np.zeros((np.shape(y)[0], 10))\n",
    "    y = np.array(y, dtype = \"int\")\n",
    "    for column in range(np.shape(y)[0]):\n",
    "        encode_data[column, y[column]] = 1\n",
    "    return encode_data\n",
    "\n",
    "def train(batchsize=1 , eta = 0.01, num_epochs=100, h = 256, init='default'):\n",
    "    x_train, y_train, x_test, y_test = data_load()  \n",
    "    \n",
    "    y_train = one_hot_encode(y_train) \n",
    "    y_test = one_hot_encode(y_test) \n",
    "\n",
    "    if init == 'default':\n",
    "       alpha_weights, beta_weights, alpha_bias, beta_bias = load_params()\n",
    "    elif init=='zeros':\n",
    "        # initialize weights and biases to 0\n",
    "        alpha_weights, beta_weights, alpha_bias, beta_bias = load_params() * 0\n",
    "    elif init=='ones':\n",
    "        # initialize weights and biases to 1\n",
    "        alpha_weights, beta_weights, alpha_bias, beta_bias = load_params() * 0 + 1\n",
    "    elif init=='random':\n",
    "        # initialize weights and biases to random values between -1 and 1\n",
    "        pass\n",
    "        \n",
    "    train_loss_list = []\n",
    "    test_loss_list = []\n",
    "    acc_list = []    \n",
    "\n",
    "    for epoch in (range(num_epochs)):\n",
    "        print(\"Epoch :\", epoch)\n",
    "        \n",
    "        for batch in range(int(len(x_train) / batchsize) + (len(x_train) % batchsize > 0)):\n",
    "            batch_x = x_train[batch * batchsize:(batch + 1) * batchsize, :]\n",
    "            batch_y = y_train[batch * batchsize:(batch + 1) * batchsize, :]\n",
    "            \n",
    "            ######## FORWARD \n",
    "            # Linear -> Sigmoid -> Linear -> Softmax\n",
    "            A = linear_forward(batch_x, alpha_weights, alpha_bias)\n",
    "            Z = sigmoid_forward(A)\n",
    "            B = linear_forward(Z, beta_weights, beta_bias)\n",
    "            L = softmax_xeloss_forward(B, batch_y)\n",
    "            ######## BACKWARD \n",
    "            den = np.sum(np.exp(B), axis = 1)\n",
    "            yhat = np.exp(B) / den\n",
    "            dl_db = softmax_xeloss_backward(yhat, batch_y)\n",
    "            dl_dbeta, dl_dz = linear_backward(dl_db, Z, beta_weights, beta_bias)\n",
    "            dl_da = sigmoid_backward(dl_dz, A)\n",
    "            dl_dalpha, dl_dx = linear_backward(dl_da, batch_x, alpha_weights, alpha_bias)\n",
    "            ######## UPDATE\n",
    "            alpha_weights = alpha_weights - dl_dalpha[:, 1:] * eta\n",
    "            beta_weights = beta_weights - dl_dbeta[:, 1:] * eta\n",
    "            alpha_bias = alpha_bias - dl_dalpha[:, 0] * eta\n",
    "            beta_bias = beta_bias - dl_dbeta[:, 0] * eta\n",
    "\n",
    "        # store average training loss for the epoch\n",
    "        # calculate test predictions and loss\n",
    "        num_test = np.shape(x_train)[0]\n",
    "        A = linear_forward(x_train, alpha_weights, alpha_bias)\n",
    "        Z = sigmoid_forward(A)\n",
    "        B = linear_forward(Z, beta_weights, beta_bias)\n",
    "        L = softmax_xeloss_forward(B, y_train)\n",
    "        \n",
    "        train_loss_list.append(np.sum(L)/num_test)\n",
    "        y_hat_train = np.exp(B)/np.sum(np.exp(B), axis = 0)\n",
    "        train_pred = np.argmax(y_hat_train, axis = 1)[:]\n",
    "        vector_corr = train_pred == np.argmax(y_train, axis = 1)[:]\n",
    "        \n",
    "        #Test\n",
    "        num_test = np.shape(x_test)[0]\n",
    "        A = linear_forward(x_test, alpha_weights, alpha_bias)\n",
    "        Z = sigmoid_forward(A)\n",
    "        B = linear_forward(Z, beta_weights, beta_bias)\n",
    "        L = softmax_xeloss_forward(B, y_test)\n",
    "        \n",
    "        test_loss_list.append(np.sum(L)/num_test)\n",
    "        den = np.sum(np.exp(B), axis = 1)\n",
    "        y_hat_test = np.exp(B)/np.sum(np.exp(B), axis = 0)\n",
    "        test_pred = np.exp(B)/np.sum(np.exp(B), axis = 0)\n",
    "        vector_correct = np.argmax(test_pred, axis = 1)[:] == np.argmax(y_test, axis = 1)[:]\n",
    "        \n",
    "        # calculate test accuracy\n",
    "        acc_list.append(np.sum(vector_correct) / num_test)\n",
    "        \n",
    "    # return train_loss_list, test_loss_list, as well as test and train predictions\n",
    "    return train_loss_list, test_loss_list, acc_list, y_hat_train, y_hat_test\n",
    "    \n"
   ]
  },
  {
   "cell_type": "code",
   "execution_count": 17,
   "metadata": {},
   "outputs": [
    {
     "name": "stdout",
     "output_type": "stream",
     "text": [
      "Epoch : 0\n",
      "Epoch : 1\n",
      "Epoch : 2\n",
      "Epoch : 3\n",
      "Epoch : 4\n",
      "Epoch : 5\n",
      "Epoch : 6\n",
      "Epoch : 7\n",
      "Epoch : 8\n",
      "Epoch : 9\n",
      "Epoch : 10\n",
      "Epoch : 11\n",
      "Epoch : 12\n",
      "Epoch : 13\n",
      "Epoch : 14\n",
      "Epoch : 15\n",
      "Epoch : 16\n",
      "Epoch : 17\n",
      "Epoch : 18\n",
      "Epoch : 19\n"
     ]
    }
   ],
   "source": [
    "train_loss_list, test_loss_list, acc_list, yhatTrain, yhatTest = train(num_epochs = 20, eta = 0.0002)"
   ]
  },
  {
   "cell_type": "markdown",
   "metadata": {},
   "source": [
    "# Plot Loss "
   ]
  },
  {
   "cell_type": "code",
   "execution_count": 18,
   "metadata": {},
   "outputs": [],
   "source": [
    "# Plot training loss, testing loss as a function of epochs"
   ]
  },
  {
   "cell_type": "code",
   "execution_count": 19,
   "metadata": {},
   "outputs": [
    {
     "data": {
      "image/png": "[encoded data removed]",
      "text/plain": [
       "<Figure size 432x288 with 1 Axes>"
      ]
     },
     "metadata": {
      "needs_background": "light"
     },
     "output_type": "display_data"
    }
   ],
   "source": [
    "epochs = np.arange(1, 21);\n",
    "plt.figure()\n",
    "plt.plot(epochs, train_loss_list, label = \"Loss on Training Data\")\n",
    "plt.plot(epochs, test_loss_list, label = \"Loss on Test Data\")\n",
    "plt.title(\"Loss vs.Epoch\")\n",
    "plt.ylabel(\"Loss\")\n",
    "plt.xlabel(\"Epoch\")\n",
    "plt.legend()\n",
    "plt.show()"
   ]
  },
  {
   "cell_type": "markdown",
   "metadata": {},
   "source": [
    "# Confusion Matrix"
   ]
  },
  {
   "cell_type": "code",
   "execution_count": 20,
   "metadata": {},
   "outputs": [
    {
     "name": "stdout",
     "output_type": "stream",
     "text": [
      "(1000,)\n"
     ]
    },
    {
     "data": {
      "image/png": "[encoded data removed]",
      "text/plain": [
       "<Figure size 432x288 with 2 Axes>"
      ]
     },
     "metadata": {
      "needs_background": "light"
     },
     "output_type": "display_data"
    }
   ],
   "source": [
    "def plot_confusion(yhat, y, title = '[Training or Test] Set'):\n",
    "\n",
    "    pred_train = np.argmax(yhat, axis=1)\n",
    "    true_train = np.argmax(y, axis=1)\n",
    "    print(true_train.shape)\n",
    "    conf_train = np.zeros((10,10))\n",
    "    for i in range(len(y)):\n",
    "        conf_train[ true_train[i], pred_train[i] ] += int(1)\n",
    "        \n",
    "    sns.heatmap(conf_train, annot=True, fmt='.3g')\n",
    "    plt.xlabel('Predicted Labels')\n",
    "    plt.ylabel('True Labels')\n",
    "    plt.title('Title')\n",
    "    plt.show()\n",
    "# plot_confusion(yhat_train, y_train, title = \"Training Set\")\n",
    "# plot_confusion(yhat_test, y_test, title = \"Test Set\")\n",
    "#yhat: predictions\n",
    "#y: one-hot-encoded labels\n",
    "\n",
    "X_train, y_train, X_test, y_test = data_load()\n",
    "y_test = one_hot_encode(y_test)\n",
    "plot_confusion(yhatTest, y_test, title = \"Test Data\")"
   ]
  },
  {
   "cell_type": "markdown",
   "metadata": {},
   "source": [
    "# Correct and Incorrect Classification Samples"
   ]
  },
  {
   "cell_type": "code",
   "execution_count": 8,
   "metadata": {},
   "outputs": [],
   "source": [
    "def plot_image(vector, out_f_name, label=None):\n",
    "    \"\"\"\n",
    "    Takes a vector as input of size (784) and saves as an image\n",
    "    \"\"\"\n",
    "    image = np.asarray(vector).reshape(28, 28)\n",
    "    plt.imshow(image, cmap='gray')\n",
    "    if label:\n",
    "        plt.title(label)\n",
    "    plt.axis('off')\n",
    "    plt.savefig(f'{out_f_name}.png', bbox_inches='tight')\n",
    "    plt.show()\n"
   ]
  },
  {
   "cell_type": "code",
   "execution_count": 9,
   "metadata": {},
   "outputs": [],
   "source": [
    "# Use plot_image function to display samples that are correctly and incorrectly predicted"
   ]
  },
  {
   "cell_type": "markdown",
   "metadata": {},
   "source": [
    "# Effect Of Learning Rate"
   ]
  },
  {
   "cell_type": "code",
   "execution_count": 10,
   "metadata": {},
   "outputs": [],
   "source": [
    "# Plot test loss as a function of epochs"
   ]
  },
  {
   "cell_type": "markdown",
   "metadata": {},
   "source": [
    "# Effect of Initialization"
   ]
  },
  {
   "cell_type": "code",
   "execution_count": 11,
   "metadata": {},
   "outputs": [],
   "source": [
    "# Plot test loss as a function of epochs"
   ]
  }
 ],
 "metadata": {
  "kernelspec": {
   "display_name": "Python 3 (ipykernel)",
   "language": "python",
   "name": "python3"
  },
  "language_info": {
   "codemirror_mode": {
    "name": "ipython",
    "version": 3
   },
   "file_extension": ".py",
   "mimetype": "text/x-python",
   "name": "python",
   "nbconvert_exporter": "python",
   "pygments_lexer": "ipython3",
   "version": "3.9.12"
  },
  "vscode": {
   "interpreter": {
    "hash": "2646d046b8e4716260f110cd84fd15ddf7abd46056d88656aca2ddf716f73663"
   }
  }
 },
 "nbformat": 4,
 "nbformat_minor": 2
}
