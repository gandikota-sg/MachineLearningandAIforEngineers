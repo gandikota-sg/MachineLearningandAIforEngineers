{
 "cells": [
  {
   "cell_type": "code",
   "execution_count": 22,
   "id": "030e9002",
   "metadata": {},
   "outputs": [],
   "source": [
    "#Problem 1a\n",
    "\n",
    "#In Writeup"
   ]
  },
  {
   "cell_type": "code",
   "execution_count": 23,
   "id": "3b54dd6d",
   "metadata": {},
   "outputs": [
    {
     "name": "stdout",
     "output_type": "stream",
     "text": [
      "N: 5\n",
      "Coordinate: -2,2\n",
      "Coordinate: 2,4\n",
      "Coordinate: 3,8\n",
      "Coordinate: 5,11\n",
      "Coordinate: 4,17\n",
      "\n",
      "b_0:  4.273972602739726\n",
      "b_1:  1.7191780821917808\n"
     ]
    }
   ],
   "source": [
    "#Problem 1b\n",
    "\n",
    "import numpy as np\n",
    "\n",
    "x = [];\n",
    "y = [];\n",
    "xy_sum = 0;\n",
    "xx_sum = 0;\n",
    "\n",
    "n = input(\"N: \");\n",
    "for i in range(int(n)):\n",
    "    x_init, y_init = input(\"Coordinate: \").split(\",\");\n",
    "    x.append(int(x_init));\n",
    "    y.append(int(y_init));\n",
    "    xy_sum += int(x_init) * int(y_init);\n",
    "    xx_sum += int(x_init) * int(x_init);\n",
    "    \n",
    "A = [int(n), sum(x)], [sum(x), xx_sum];\n",
    "B = [sum(y), xy_sum];\n",
    "C = np.linalg.solve(A, B);\n",
    "print(\"\\nb_0: \", C[0]);\n",
    "print(\"b_1: \", C[1]);"
   ]
  },
  {
   "cell_type": "code",
   "execution_count": 24,
   "id": "f5823b61",
   "metadata": {},
   "outputs": [
    {
     "name": "stdout",
     "output_type": "stream",
     "text": [
      "b_0:  4.080657141896076\n",
      "b_1:  -0.442369138504379\n"
     ]
    }
   ],
   "source": [
    "#Problem 1c\n",
    "\n",
    "import numpy as np\n",
    "import csv\n",
    "\n",
    "x = [];\n",
    "y = [];\n",
    "n = 0;\n",
    "xy_sum = 0;\n",
    "xx_sum = 0;\n",
    "\n",
    "\n",
    "with open('p1_data.csv') as csv_file: \n",
    "    data = csv.reader(csv_file, delimiter=',');\n",
    "    next(data);\n",
    "    \n",
    "    for row in data:\n",
    "        n += 1;\n",
    "        x_init = row[0];\n",
    "        y_init = row[1];\n",
    "        x.append(float(x_init));\n",
    "        y.append(float(y_init));\n",
    "        xy_sum += float(x_init) * float(y_init);\n",
    "        xx_sum += float(x_init) * float(x_init);\n",
    "    \n",
    "A = [n, sum(x)], [sum(x), xx_sum];\n",
    "\n",
    "B = [sum(y), xy_sum];\n",
    "C = np.linalg.solve(A, B);\n",
    "\n",
    "print(\"b_0: \", C[0]);\n",
    "print(\"b_1: \", C[1]);"
   ]
  },
  {
   "cell_type": "code",
   "execution_count": 25,
   "id": "a90b7c01",
   "metadata": {},
   "outputs": [
    {
     "name": "stdout",
     "output_type": "stream",
     "text": [
      "True\n",
      "False\n",
      "True\n",
      "True\n",
      "False\n",
      "True\n"
     ]
    }
   ],
   "source": [
    "#Problem 2a\n",
    "\n",
    "def includes(item, val, start_ind=None):\n",
    "    if (type(item) is list): #List\n",
    "        if (start_ind == None): \n",
    "            for i in range(len(item)):\n",
    "                if (item[i] == val):\n",
    "                    return True\n",
    "        else: \n",
    "            for i in range(start_ind, len(item)):\n",
    "                if (item[i] == val):\n",
    "                    return True\n",
    "    elif (type(item) is str):\n",
    "        if (start_ind == None): \n",
    "            for i in range(len(item)):\n",
    "                if (item[i] == val):\n",
    "                    return True\n",
    "        else: \n",
    "            for i in range(start_ind, len(item)):\n",
    "                if (item[i] == val):\n",
    "                    return True\n",
    "    else: #Dictionary\n",
    "        for j in item.keys():\n",
    "            if (item[j] == val):\n",
    "                return True\n",
    "    \n",
    "    return False\n",
    "\n",
    "print(includes([2, 3, 4], 2, 0));\n",
    "print(includes([2, 3, 4], 2, 1));\n",
    "print(includes([2, 3, 4], 4, 1) );\n",
    "print(includes({'a':1,'b':2}, 1) );\n",
    "print(includes({'a':1,'b':2}, 'a'));\n",
    "print(includes('abcd', 'b'));"
   ]
  },
  {
   "cell_type": "code",
   "execution_count": 26,
   "id": "a986daba",
   "metadata": {},
   "outputs": [
    {
     "name": "stdout",
     "output_type": "stream",
     "text": [
      "10.0\n",
      "10.5\n",
      "11.0\n"
     ]
    }
   ],
   "source": [
    "#Problem 2b\n",
    "\n",
    "array = [];\n",
    "def moving_average():\n",
    "    def value_calc(x):\n",
    "        mean = 0.0;\n",
    "        i = 1;\n",
    "        array.append(x);\n",
    "        for i in range(len(array)):\n",
    "            mean += array[i];\n",
    "        mean = mean / len(array);\n",
    "        return mean;\n",
    "    return value_calc;\n",
    "        \n",
    "    \n",
    "mAvg = moving_average();\n",
    "print(mAvg(10));\n",
    "print(mAvg(11));\n",
    "print(mAvg(12));"
   ]
  },
  {
   "cell_type": "code",
   "execution_count": 27,
   "id": "35cea138",
   "metadata": {},
   "outputs": [
    {
     "name": "stdout",
     "output_type": "stream",
     "text": [
      "True\n",
      "False\n",
      "False\n",
      "True\n"
     ]
    }
   ],
   "source": [
    "#Problem 2c\n",
    "\n",
    "def same_frequency(num1, num2):\n",
    "    copy_one = str(num1);\n",
    "    copy_two = str(num2);\n",
    "    while (num1 > 0 and num2 > 0):\n",
    "        num1 = num1 / 10;\n",
    "        num2 = num2 / 10;\n",
    "        \n",
    "    if ((num1 == 0 and num2 == 0)) or (len(copy_one) == len(copy_two)):\n",
    "        if sorted(copy_one) == sorted(copy_two):\n",
    "            return True;\n",
    "    return False;\n",
    "\n",
    "print(same_frequency(551122,221515)); \n",
    "print(same_frequency(321142,3212215)); \n",
    "print(same_frequency(12345,31354)); \n",
    "print(same_frequency(1212, 2211));"
   ]
  },
  {
   "cell_type": "code",
   "execution_count": 28,
   "id": "42ca72b9",
   "metadata": {},
   "outputs": [
    {
     "data": {
      "image/png": "[encoded data removed]",
      "text/plain": [
       "<Figure size 432x288 with 1 Axes>"
      ]
     },
     "metadata": {
      "needs_background": "light"
     },
     "output_type": "display_data"
    }
   ],
   "source": [
    "#Problem 2d\n",
    "\n",
    "import matplotlib.pyplot as plt\n",
    "\n",
    "x = [];\n",
    "y = [];\n",
    "x_new = 0;\n",
    "y_new = 0;\n",
    "\n",
    "npzfile = np.load('kmeans.npz');\n",
    "data = npzfile['data'];\n",
    "pred = npzfile['pred'];\n",
    "centers = npzfile['centers'];\n",
    "\n",
    "fig = plt.figure()\n",
    "ax = fig.add_subplot(111)\n",
    "\n",
    "for k in range(len(data)):\n",
    "    x.append(data[k][0]);\n",
    "    y.append(data[k][1]);\n",
    "ax.scatter(x, y, c = pred, alpha=0.4);\n",
    "for i, j in centers:\n",
    "   ax.scatter(i, j, s=50, c='red');"
   ]
  },
  {
   "cell_type": "code",
   "execution_count": 29,
   "id": "f081e4dd",
   "metadata": {},
   "outputs": [
    {
     "name": "stdout",
     "output_type": "stream",
     "text": [
      "[[ 288116.  433466.  322354. ...  234498.  459306.  323646.]\n",
      " [ 214972.  323422.  240518. ...  174966.  342702.  241482.]\n",
      " [-312200. -469700. -349300. ... -254100. -497700. -350700.]\n",
      " ...\n",
      " [ 180184.  271084.  201596. ...  146652.  287244.  202404.]\n",
      " [ -66454.  -99979.  -74351. ...  -54087. -105939.  -74649.]\n",
      " [ 203376.  305976.  227544. ...  165528.  324216.  228456.]]\n",
      "[[ 288116  433466  322354 ...  234498  459306  323646]\n",
      " [ 214972  323422  240518 ...  174966  342702  241482]\n",
      " [-312200 -469700 -349300 ... -254100 -497700 -350700]\n",
      " ...\n",
      " [ 180184  271084  201596 ...  146652  287244  202404]\n",
      " [ -66454  -99979  -74351 ...  -54087 -105939  -74649]\n",
      " [ 203376  305976  227544 ...  165528  324216  228456]]\n"
     ]
    }
   ],
   "source": [
    "#Problem 2e\n",
    "\n",
    "import numpy as np\n",
    "\n",
    "np.random.seed(24787)\n",
    "X = np.random.randint(-1000, 1000, size=3000)\n",
    "Y = np.random.randint(-1000, 1000, size=3000)\n",
    "\n",
    "def NUMPY_outer(X,Y):\n",
    "    i = 1;\n",
    "    j = 1;\n",
    "    mat = np.zeros((len(X),len(Y)));\n",
    "                   \n",
    "    for i in range(len(X)):\n",
    "        for j in range(len(Y)):\n",
    "            mat[i][j] = X[i] * Y[j];\n",
    "            j = j + 1;\n",
    "        i = i + 1;\n",
    "    return mat\n",
    "code_output = NUMPY_outer(X, Y);\n",
    "np_output = np.outer(X, Y);\n",
    "print(code_output);\n",
    "print(np_output);\n",
    "\n",
    "#The inbuilt program is probably faster than the one I created\n",
    "# because it may be more optimally calculated than mine as mine\n",
    "# iterates for every point whereas there code might involve\n",
    "# a smoother, faster algorithmn that may require less memory as well."
   ]
  },
  {
   "cell_type": "code",
   "execution_count": 30,
   "id": "66ca186e",
   "metadata": {
    "scrolled": true
   },
   "outputs": [
    {
     "name": "stdout",
     "output_type": "stream",
     "text": [
      "b_0:  1.2375325279298974\n",
      "b_1:  1.0124618454626548\n"
     ]
    },
    {
     "data": {
      "image/png": "[encoded data removed]",
      "text/plain": [
       "<Figure size 432x288 with 1 Axes>"
      ]
     },
     "metadata": {
      "needs_background": "light"
     },
     "output_type": "display_data"
    }
   ],
   "source": [
    "#Problem 3a\n",
    "\n",
    "import numpy as np \n",
    "import time\n",
    "import matplotlib.pyplot as plt\n",
    "\n",
    "data = np.load('p3_data.npy');\n",
    "x = data[:, 0];\n",
    "y = data[:, 1];\n",
    "lr = 0.0001;\n",
    "num_iter = 100;\n",
    "\n",
    "def predict(x, b_0, b_1):\n",
    "    return b_1 + np.multiply(b_0, x);\n",
    "\n",
    "def LSE(y, predict):\n",
    "    return np.sum(predict - y) * np.sum(predict - y);\n",
    "\n",
    "def cost_grad(data, b_0, b_1):\n",
    "    x = data[:, 0];\n",
    "    y = data[:, 1];\n",
    "    y_pred = predict(x, b_0, b_1);\n",
    "    cost = LSE(y, y_pred);\n",
    "    grad_0 = np.sum(2 * x * (y_pred - y)) / len(y);\n",
    "    grad_1 = np.sum((y_pred - y) * 2) / len(y);\n",
    "    \n",
    "    return [cost, grad_0, grad_1];\n",
    "\n",
    "def weight_update(data, b_0, b_1, lr, num_iter):\n",
    "    x = data[:, 0];\n",
    "    y = data[:, 1];\n",
    "    init_b_0 = b_0;\n",
    "    init_b_1 = b_1;\n",
    "    b_0_array = [];\n",
    "    b_1_array = [];\n",
    "    cost_array = [];\n",
    "    diff_array = [];\n",
    "    i = 0;\n",
    "    \n",
    "    for i in range(num_iter):\n",
    "        b_0_array.append(b_0);\n",
    "        b_1_array.append(b_1);\n",
    "        cost, grad_0, grad_1 = cost_grad(data, b_0, b_1);\n",
    "        cost_array.append(cost);\n",
    "        b_0 = b_0 - lr * grad_0;\n",
    "        b_1 = b_1 - lr * grad_1;\n",
    "\n",
    "    return b_0_array, b_1_array, cost_array;\n",
    "\n",
    "fig = plt.figure()\n",
    "ax = fig.add_subplot(111)\n",
    "ax.scatter(x, y);\n",
    "b_0_array, b_1_array, cost_array = weight_update(data, 1, 1, lr, num_iter);\n",
    "last_arr = len(b_0_array);\n",
    "y_line = predict(x, b_0_array[last_arr - 1], b_1_array[last_arr - 1]);\n",
    "plt.plot(x, y_line, c = 'r');\n",
    "print(\"b_0: \", b_0_array[last_arr - 1])\n",
    "print(\"b_1: \", b_1_array[last_arr - 1])"
   ]
  },
  {
   "cell_type": "code",
   "execution_count": 31,
   "id": "8125e5c7",
   "metadata": {
    "scrolled": true
   },
   "outputs": [
    {
     "data": {
      "image/png": "[encoded data removed]",
      "text/plain": [
       "<Figure size 432x288 with 1 Axes>"
      ]
     },
     "metadata": {
      "needs_background": "light"
     },
     "output_type": "display_data"
    },
    {
     "data": {
      "image/png": "[encoded data removed]",
      "text/plain": [
       "<Figure size 432x288 with 1 Axes>"
      ]
     },
     "metadata": {
      "needs_background": "light"
     },
     "output_type": "display_data"
    },
    {
     "name": "stderr",
     "output_type": "stream",
     "text": [
      "C:\\Users\\gandi\\AppData\\Local\\Temp\\ipykernel_1748\\1113001590.py:17: RuntimeWarning: overflow encountered in double_scalars\n",
      "  return np.sum(predict - y) * np.sum(predict - y);\n"
     ]
    },
    {
     "data": {
      "image/png": "[encoded data removed]",
      "text/plain": [
       "<Figure size 432x288 with 1 Axes>"
      ]
     },
     "metadata": {
      "needs_background": "light"
     },
     "output_type": "display_data"
    },
    {
     "name": "stderr",
     "output_type": "stream",
     "text": [
      "C:\\Users\\gandi\\AppData\\Local\\Temp\\ipykernel_1748\\1113001590.py:14: RuntimeWarning: overflow encountered in multiply\n",
      "  return b_1 + np.multiply(b_0, x);\n",
      "C:\\Users\\gandi\\AppData\\Local\\Temp\\ipykernel_1748\\1113001590.py:45: RuntimeWarning: invalid value encountered in double_scalars\n",
      "  b_0 = b_0 - lr * grad_0;\n",
      "C:\\Users\\gandi\\AppData\\Local\\Temp\\ipykernel_1748\\1113001590.py:46: RuntimeWarning: invalid value encountered in double_scalars\n",
      "  b_1 = b_1 - lr * grad_1;\n"
     ]
    },
    {
     "data": {
      "image/png": "[encoded data removed]",
      "text/plain": [
       "<Figure size 432x288 with 1 Axes>"
      ]
     },
     "metadata": {
      "needs_background": "light"
     },
     "output_type": "display_data"
    }
   ],
   "source": [
    "#Problem 3b\n",
    "\n",
    "fig = plt.figure()\n",
    "ax = fig.add_subplot(221)\n",
    "b_0_array, b_1_array, cost_array = weight_update(data, 0, 0, 0.0002, num_iter);\n",
    "last_arr = len(b_0_array);\n",
    "last_cost = len(cost_array);\n",
    "\n",
    "plt.plot(cost_array);\n",
    "plt.xlabel(\"Epoch = Iteration\")\n",
    "plt.ylabel(\"Cost\")\n",
    "plt.title(\"Cost vs. Iteration\")\n",
    "plt.show();\n",
    "\n",
    "fig = plt.figure()\n",
    "ax = fig.add_subplot(222)\n",
    "b_0_array, b_1_array, cost_array = weight_update(data, 0, 0, 0.0006, num_iter);\n",
    "last_arr = len(b_0_array);\n",
    "last_cost = len(cost_array);\n",
    "\n",
    "plt.plot(cost_array);\n",
    "plt.xlabel(\"Epoch = Iteration\")\n",
    "plt.ylabel(\"Cost\")\n",
    "plt.title(\"Cost vs. Iteration\")\n",
    "plt.show();\n",
    "\n",
    "fig = plt.figure()\n",
    "ax = fig.add_subplot(223)\n",
    "b_0_array, b_1_array, cost_array = weight_update(data, 0, 0, 0.01, num_iter);\n",
    "last_arr = len(b_0_array);\n",
    "last_cost = len(cost_array);\n",
    "\n",
    "plt.plot(cost_array);\n",
    "plt.xlabel(\"Epoch = Iteration\")\n",
    "plt.ylabel(\"Cost\")\n",
    "plt.title(\"Cost vs. Iteration\")\n",
    "plt.show();\n",
    "\n",
    "fig = plt.figure()\n",
    "ax = fig.add_subplot(224)\n",
    "b_0_array, b_1_array, cost_array = weight_update(data, 0, 0, 10, num_iter);\n",
    "last_arr = len(b_0_array);\n",
    "last_cost = len(cost_array);\n",
    "\n",
    "plt.plot(cost_array);\n",
    "plt.xlabel(\"Epoch = Iteration\")\n",
    "plt.ylabel(\"Cost\")\n",
    "plt.title(\"Cost vs. Iteration\")\n",
    "plt.show();"
   ]
  },
  {
   "cell_type": "code",
   "execution_count": 32,
   "id": "53ec918f",
   "metadata": {},
   "outputs": [],
   "source": [
    "#Problem 3c\n",
    "\n",
    "#I believe that the best learning rate would be something close to 0.0002 \n",
    "# because the loss decrease was the best for a slower learning rate. This\n",
    "# is because it has a slower rate of calculating, causing a higher \n",
    "# accuracy of reaching the good values and wont have the spike at the end \n",
    "# of the iterations as well."
   ]
  },
  {
   "cell_type": "code",
   "execution_count": 33,
   "id": "5da1a0f2",
   "metadata": {},
   "outputs": [],
   "source": [
    "#Problem 3d\n",
    "\n",
    "#In Writeup"
   ]
  },
  {
   "cell_type": "code",
   "execution_count": 34,
   "id": "6ecfe834",
   "metadata": {},
   "outputs": [],
   "source": [
    "#Problem 3e\n",
    "\n",
    "#The conclusion in regards to what the aproximate upper bound of learning \n",
    "# rate before divergence would be around 0.00027. This can be seen as at\n",
    "# that learning rate, the first plot seems to still regress downwards but\n",
    "# in a weird starcase pattern whereas if you increase it to 0.00028, the \n",
    "# plot begins to diverge to infinity."
   ]
  },
  {
   "cell_type": "code",
   "execution_count": 35,
   "id": "a4f8a824",
   "metadata": {},
   "outputs": [
    {
     "data": {
      "image/png": "[encoded data removed]",
      "text/plain": [
       "<Figure size 432x288 with 1 Axes>"
      ]
     },
     "metadata": {
      "needs_background": "light"
     },
     "output_type": "display_data"
    },
    {
     "data": {
      "image/png": "[encoded data removed]",
      "text/plain": [
       "<Figure size 432x288 with 1 Axes>"
      ]
     },
     "metadata": {
      "needs_background": "light"
     },
     "output_type": "display_data"
    }
   ],
   "source": [
    "fig = plt.figure()\n",
    "ax = fig.add_subplot(221)\n",
    "b_0_array, b_1_array, cost_array = weight_update(data, 0, 0, 0.00027, num_iter);\n",
    "last_arr = len(b_0_array);\n",
    "last_cost = len(cost_array);\n",
    "\n",
    "plt.plot(cost_array);\n",
    "plt.xlabel(\"Epoch = Iteration\")\n",
    "plt.ylabel(\"Cost\")\n",
    "plt.title(\"Cost vs. Iteration\")\n",
    "plt.show();\n",
    "\n",
    "fig = plt.figure()\n",
    "ax = fig.add_subplot(221)\n",
    "b_0_array, b_1_array, cost_array = weight_update(data, 0, 0, 0.00028, num_iter);\n",
    "last_arr = len(b_0_array);\n",
    "last_cost = len(cost_array);\n",
    "\n",
    "plt.plot(cost_array);\n",
    "plt.xlabel(\"Epoch = Iteration\")\n",
    "plt.ylabel(\"Cost\")\n",
    "plt.title(\"Cost vs. Iteration\")\n",
    "plt.show();\n"
   ]
  },
  {
   "cell_type": "code",
   "execution_count": 36,
   "id": "add4f773",
   "metadata": {},
   "outputs": [
    {
     "name": "stdout",
     "output_type": "stream",
     "text": [
      "b_0:  1.231727217912758\n",
      "b_1:  1.0084006190355324\n"
     ]
    },
    {
     "data": {
      "text/plain": [
       "Text(0, 0.5, 'Loss')"
      ]
     },
     "execution_count": 36,
     "metadata": {},
     "output_type": "execute_result"
    },
    {
     "data": {
      "text/plain": [
       "<Figure size 720x288 with 0 Axes>"
      ]
     },
     "metadata": {},
     "output_type": "display_data"
    },
    {
     "data": {
      "image/png": "[encoded data removed]",
      "text/plain": [
       "<Figure size 720x288 with 1 Axes>"
      ]
     },
     "metadata": {
      "needs_background": "light"
     },
     "output_type": "display_data"
    },
    {
     "data": {
      "image/png": "[encoded data removed]",
      "text/plain": [
       "<Figure size 720x288 with 1 Axes>"
      ]
     },
     "metadata": {
      "needs_background": "light"
     },
     "output_type": "display_data"
    }
   ],
   "source": [
    "#Problem 3f\n",
    "\n",
    "def update_mini_batch(data, b_0, b_1, lr, num_iter):\n",
    "    x = data[:, 0];\n",
    "    y = data[:, 1];\n",
    "    B_0 = b_0;\n",
    "    B_1 = b_1;\n",
    "    B_0_list = [];\n",
    "    B_1_list = [];\n",
    "    cost_list = [];\n",
    "    loss_list = [];\n",
    "    b = 20;\n",
    "    i = b;\n",
    "    j = 0;\n",
    "    \n",
    "    while j in range(int(num_iter/b)):\n",
    "        B_0_list.append(B_0);\n",
    "        B_1_list.append(B_1);\n",
    "        k = i - b;\n",
    "        cost, grad0, grad1 = cost_grad(data[k:i-1], B_0, B_1);\n",
    "        loss_list.append(cost);\n",
    "        B_0 = B_0 - lr * grad0;\n",
    "        B_1 = B_1 - lr * grad1;\n",
    "        i = i + b;\n",
    "        if i>=(len(x)):\n",
    "            i = i - len(x)\n",
    "        j = j+1;\n",
    "        \n",
    "    return B_0_list, B_1_list, loss_list\n",
    "\n",
    "data = np.load('p3_data.npy');\n",
    "x = data[:, 0]\n",
    "y = data[:, 1]\n",
    "plt.figure(figsize=(10,4))\n",
    "plt.figure(figsize=(10,4))\n",
    "plt.scatter(x, y, label = 'Data')\n",
    "\n",
    "\n",
    "lr = 0.00017\n",
    "num_iter = 1000\n",
    "B_0, B_1, Loss = update_mini_batch(data, 1, 1, lr, num_iter)\n",
    "b0 = B_0[-1]\n",
    "b1 = B_1[-1]\n",
    "print(\"b_0: \", b0)\n",
    "print(\"b_1: \", b1)\n",
    "\n",
    "plt.plot(x, b0*x + b1, c='r', label = 'Line of Best Fit')\n",
    "plt.xlim(40,80)\n",
    "plt.ylim(50,100)\n",
    "plt.legend()\n",
    "\n",
    "B_0, B_1, Loss = update_mini_batch(data, 1, 1, lr, num_iter)\n",
    "plt.figure(figsize=(10,4))\n",
    "ax1 = plt.subplot(1,2,1);\n",
    "ax1.plot(Loss)\n",
    "ax1.set_xlabel(\"Iteration\")\n",
    "ax1.set_ylabel(\"Loss\")"
   ]
  },
  {
   "cell_type": "code",
   "execution_count": null,
   "id": "1373d854",
   "metadata": {},
   "outputs": [],
   "source": [
    "# My observation for this plot is that the Loss is much more lower for the\n",
    "# more batch iterations that get ran. Its interesting to see that the beginning\n",
    "# losses decrease drastically but then begin to rise and fall slowly after that."
   ]
  }
 ],
 "metadata": {
  "kernelspec": {
   "display_name": "Python 3 (ipykernel)",
   "language": "python",
   "name": "python3"
  },
  "language_info": {
   "codemirror_mode": {
    "name": "ipython",
    "version": 3
   },
   "file_extension": ".py",
   "mimetype": "text/x-python",
   "name": "python",
   "nbconvert_exporter": "python",
   "pygments_lexer": "ipython3",
   "version": "3.9.12"
  }
 },
 "nbformat": 4,
 "nbformat_minor": 5
}
